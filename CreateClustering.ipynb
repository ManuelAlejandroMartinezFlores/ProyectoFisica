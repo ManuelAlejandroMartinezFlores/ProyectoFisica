{
 "cells": [
  {
   "cell_type": "markdown",
   "metadata": {},
   "source": [
    "# Clustering"
   ]
  },
  {
   "cell_type": "code",
   "execution_count": 1,
   "metadata": {},
   "outputs": [],
   "source": [
    "from tqdm import tqdm_notebook, tqdm \n",
    "import pandas as pd \n",
    "from functions.others import *\n",
    "from functions.cluster import * \n",
    "import os \n",
    "\n",
    "from TrackML.dataset import load_event\n",
    "from TrackML.randomize import shuffle_hits\n",
    "from TrackML.score import score_event\n"
   ]
  },
  {
   "cell_type": "code",
   "execution_count": 2,
   "metadata": {},
   "outputs": [
    {
     "data": {
      "text/html": [
       "<div>\n",
       "<style scoped>\n",
       "    .dataframe tbody tr th:only-of-type {\n",
       "        vertical-align: middle;\n",
       "    }\n",
       "\n",
       "    .dataframe tbody tr th {\n",
       "        vertical-align: top;\n",
       "    }\n",
       "\n",
       "    .dataframe thead th {\n",
       "        text-align: right;\n",
       "    }\n",
       "</style>\n",
       "<table border=\"1\" class=\"dataframe\">\n",
       "  <thead>\n",
       "    <tr style=\"text-align: right;\">\n",
       "      <th></th>\n",
       "      <th>sint</th>\n",
       "      <th>cost</th>\n",
       "      <th>phi</th>\n",
       "      <th>min_group</th>\n",
       "      <th>npoints</th>\n",
       "    </tr>\n",
       "  </thead>\n",
       "  <tbody>\n",
       "    <tr>\n",
       "      <th>0</th>\n",
       "      <td>225</td>\n",
       "      <td>225</td>\n",
       "      <td>550</td>\n",
       "      <td>11</td>\n",
       "      <td>250</td>\n",
       "    </tr>\n",
       "    <tr>\n",
       "      <th>1</th>\n",
       "      <td>110</td>\n",
       "      <td>110</td>\n",
       "      <td>260</td>\n",
       "      <td>11</td>\n",
       "      <td>1250</td>\n",
       "    </tr>\n",
       "    <tr>\n",
       "      <th>2</th>\n",
       "      <td>110</td>\n",
       "      <td>110</td>\n",
       "      <td>260</td>\n",
       "      <td>10</td>\n",
       "      <td>500</td>\n",
       "    </tr>\n",
       "  </tbody>\n",
       "</table>\n",
       "</div>"
      ],
      "text/plain": [
       "   sint  cost  phi  min_group  npoints\n",
       "0   225   225  550         11      250\n",
       "1   110   110  260         11     1250\n",
       "2   110   110  260         10      500"
      ]
     },
     "execution_count": 2,
     "metadata": {},
     "output_type": "execute_result"
    }
   ],
   "source": [
    "weights={'pi':1,'theta':0.15}\n",
    "stds={'z0':7.5, 'kt':7.5e-4}\n",
    "d =    {'sint':[225,110,110],\n",
    "        'cost':[225,110,110],\n",
    "          'phi':[550,260,260],\n",
    "        'min_group':[11,11,10],\n",
    "        'npoints':[250,1250,500]}\n",
    "filters=pd.DataFrame(d)\n",
    "filters"
   ]
  },
  {
   "cell_type": "code",
   "execution_count": 3,
   "metadata": {},
   "outputs": [],
   "source": [
    "event_prefix = 'event000001000'\n",
    "\n",
    "\n",
    "def run_clustering(i):\n",
    "    event_num=1000+i\n",
    "    event_prefix = 'event00000{}'.format(event_num)\n",
    "    print('running '+event_prefix)\n",
    "    hits, cells, particles, truth = load_event(os.path.join('data/train_100_events', event_prefix))\n",
    "    history=[]\n",
    "\n",
    "    resa1=clustering(hits,stds,filters)\n",
    "    resa1[\"event_id\"]=event_num-1000\n",
    "    score = score_event_fast(truth, resa1.rename(index=str, columns={\"label\": \"track_id\"}))\n",
    "    print(\"Your score: \", score)\n",
    "    resa1.to_csv(\"{}{}_cluster.csv\".format('clustering/',event_prefix), index=False)"
   ]
  },
  {
   "cell_type": "code",
   "execution_count": 4,
   "metadata": {},
   "outputs": [
    {
     "data": {
      "text/plain": [
       "6"
      ]
     },
     "execution_count": 4,
     "metadata": {},
     "output_type": "execute_result"
    }
   ],
   "source": [
    "from joblib import Parallel, delayed\n",
    "import multiprocessing\n",
    "from tqdm import tqdm\n",
    "\n",
    "num_cores = multiprocessing.cpu_count() - 2\n",
    "num_cores"
   ]
  },
  {
   "cell_type": "code",
   "execution_count": 5,
   "metadata": {},
   "outputs": [
    {
     "name": "stderr",
     "output_type": "stream",
     "text": [
      "100%|██████████| 100/100 [46:04<00:00, 27.64s/it]\n"
     ]
    }
   ],
   "source": [
    "res_list = Parallel(n_jobs=num_cores)(delayed(run_clustering)(i) for i in tqdm(range(100)))"
   ]
  },
  {
   "cell_type": "code",
   "execution_count": null,
   "metadata": {},
   "outputs": [],
   "source": []
  }
 ],
 "metadata": {
  "interpreter": {
   "hash": "c6a7b40274db86a37d657393cfd0928c3836b0021532fc2ccf0ba79e8a4ba1f5"
  },
  "kernelspec": {
   "display_name": "Python 3.8.3 ('base')",
   "language": "python",
   "name": "python3"
  },
  "language_info": {
   "codemirror_mode": {
    "name": "ipython",
    "version": 3
   },
   "file_extension": ".py",
   "mimetype": "text/x-python",
   "name": "python",
   "nbconvert_exporter": "python",
   "pygments_lexer": "ipython3",
   "version": "3.8.3"
  },
  "orig_nbformat": 4
 },
 "nbformat": 4,
 "nbformat_minor": 2
}
