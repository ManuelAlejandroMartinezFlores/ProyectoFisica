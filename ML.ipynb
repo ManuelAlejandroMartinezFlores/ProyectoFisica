{
 "cells": [
  {
   "cell_type": "markdown",
   "metadata": {},
   "source": [
    "# ML"
   ]
  },
  {
   "cell_type": "code",
   "execution_count": 1,
   "metadata": {},
   "outputs": [],
   "source": [
    "from functions.others import * \n",
    "import pandas as pd\n",
    "import numpy as np\n"
   ]
  },
  {
   "cell_type": "code",
   "execution_count": 121,
   "metadata": {},
   "outputs": [
    {
     "data": {
      "text/html": [
       "<div>\n",
       "<style scoped>\n",
       "    .dataframe tbody tr th:only-of-type {\n",
       "        vertical-align: middle;\n",
       "    }\n",
       "\n",
       "    .dataframe tbody tr th {\n",
       "        vertical-align: top;\n",
       "    }\n",
       "\n",
       "    .dataframe thead th {\n",
       "        text-align: right;\n",
       "    }\n",
       "</style>\n",
       "<table border=\"1\" class=\"dataframe\">\n",
       "  <thead>\n",
       "    <tr style=\"text-align: right;\">\n",
       "      <th></th>\n",
       "      <th>svolume</th>\n",
       "      <th>nhits</th>\n",
       "      <th>nclusters</th>\n",
       "      <th>nhitspercluster</th>\n",
       "      <th>xmax</th>\n",
       "      <th>ymax</th>\n",
       "      <th>zmax</th>\n",
       "      <th>xmin</th>\n",
       "      <th>ymin</th>\n",
       "      <th>zmin</th>\n",
       "      <th>zmean</th>\n",
       "      <th>xvar</th>\n",
       "      <th>yvar</th>\n",
       "      <th>zvar</th>\n",
       "      <th>target</th>\n",
       "      <th>event_id</th>\n",
       "    </tr>\n",
       "  </thead>\n",
       "  <tbody>\n",
       "    <tr>\n",
       "      <th>count</th>\n",
       "      <td>475746.000000</td>\n",
       "      <td>475746.000000</td>\n",
       "      <td>475746.000000</td>\n",
       "      <td>475746.000000</td>\n",
       "      <td>475746.000000</td>\n",
       "      <td>475746.000000</td>\n",
       "      <td>475746.000000</td>\n",
       "      <td>475746.000000</td>\n",
       "      <td>475746.000000</td>\n",
       "      <td>475746.000000</td>\n",
       "      <td>475746.000000</td>\n",
       "      <td>475746.000000</td>\n",
       "      <td>475746.000000</td>\n",
       "      <td>4.757460e+05</td>\n",
       "      <td>475746.000000</td>\n",
       "      <td>475746.000000</td>\n",
       "    </tr>\n",
       "    <tr>\n",
       "      <th>mean</th>\n",
       "      <td>8.302025</td>\n",
       "      <td>9.020181</td>\n",
       "      <td>6.980841</td>\n",
       "      <td>1.334688</td>\n",
       "      <td>191.588303</td>\n",
       "      <td>190.254196</td>\n",
       "      <td>645.634338</td>\n",
       "      <td>-182.971298</td>\n",
       "      <td>-187.014984</td>\n",
       "      <td>-609.695557</td>\n",
       "      <td>16.064571</td>\n",
       "      <td>31253.681641</td>\n",
       "      <td>31692.484375</td>\n",
       "      <td>3.082418e+05</td>\n",
       "      <td>0.517841</td>\n",
       "      <td>54.741093</td>\n",
       "    </tr>\n",
       "    <tr>\n",
       "      <th>std</th>\n",
       "      <td>1.444295</td>\n",
       "      <td>3.289764</td>\n",
       "      <td>2.614520</td>\n",
       "      <td>0.330964</td>\n",
       "      <td>308.659943</td>\n",
       "      <td>308.976166</td>\n",
       "      <td>1113.922974</td>\n",
       "      <td>305.746857</td>\n",
       "      <td>309.926117</td>\n",
       "      <td>1106.958374</td>\n",
       "      <td>870.065247</td>\n",
       "      <td>38884.726562</td>\n",
       "      <td>39226.414062</td>\n",
       "      <td>3.669568e+05</td>\n",
       "      <td>0.499682</td>\n",
       "      <td>26.218641</td>\n",
       "    </tr>\n",
       "    <tr>\n",
       "      <th>min</th>\n",
       "      <td>7.000000</td>\n",
       "      <td>5.000000</td>\n",
       "      <td>2.000000</td>\n",
       "      <td>1.000000</td>\n",
       "      <td>-864.742004</td>\n",
       "      <td>-831.653992</td>\n",
       "      <td>-2545.500000</td>\n",
       "      <td>-1025.329956</td>\n",
       "      <td>-1025.329956</td>\n",
       "      <td>-2955.500000</td>\n",
       "      <td>-2789.100098</td>\n",
       "      <td>0.000129</td>\n",
       "      <td>0.000033</td>\n",
       "      <td>0.000000e+00</td>\n",
       "      <td>0.000000</td>\n",
       "      <td>11.000000</td>\n",
       "    </tr>\n",
       "    <tr>\n",
       "      <th>25%</th>\n",
       "      <td>8.000000</td>\n",
       "      <td>6.000000</td>\n",
       "      <td>5.000000</td>\n",
       "      <td>1.111111</td>\n",
       "      <td>-26.294675</td>\n",
       "      <td>-26.564975</td>\n",
       "      <td>-108.575747</td>\n",
       "      <td>-348.524498</td>\n",
       "      <td>-356.795990</td>\n",
       "      <td>-1497.500000</td>\n",
       "      <td>-685.804398</td>\n",
       "      <td>2406.886841</td>\n",
       "      <td>2417.603699</td>\n",
       "      <td>3.713043e+04</td>\n",
       "      <td>0.000000</td>\n",
       "      <td>31.000000</td>\n",
       "    </tr>\n",
       "    <tr>\n",
       "      <th>50%</th>\n",
       "      <td>8.000000</td>\n",
       "      <td>9.000000</td>\n",
       "      <td>7.000000</td>\n",
       "      <td>1.250000</td>\n",
       "      <td>44.175550</td>\n",
       "      <td>42.132099</td>\n",
       "      <td>61.985550</td>\n",
       "      <td>-34.414200</td>\n",
       "      <td>-35.180500</td>\n",
       "      <td>-5.231375</td>\n",
       "      <td>14.787806</td>\n",
       "      <td>14309.314941</td>\n",
       "      <td>14571.986816</td>\n",
       "      <td>1.262438e+05</td>\n",
       "      <td>1.000000</td>\n",
       "      <td>54.000000</td>\n",
       "    </tr>\n",
       "    <tr>\n",
       "      <th>75%</th>\n",
       "      <td>8.000000</td>\n",
       "      <td>12.000000</td>\n",
       "      <td>10.000000</td>\n",
       "      <td>1.444444</td>\n",
       "      <td>364.803741</td>\n",
       "      <td>361.558754</td>\n",
       "      <td>1498.000000</td>\n",
       "      <td>27.131600</td>\n",
       "      <td>27.121475</td>\n",
       "      <td>121.947998</td>\n",
       "      <td>730.735336</td>\n",
       "      <td>48087.880859</td>\n",
       "      <td>49188.343750</td>\n",
       "      <td>5.266745e+05</td>\n",
       "      <td>1.000000</td>\n",
       "      <td>78.000000</td>\n",
       "    </tr>\n",
       "    <tr>\n",
       "      <th>max</th>\n",
       "      <td>18.000000</td>\n",
       "      <td>21.000000</td>\n",
       "      <td>17.000000</td>\n",
       "      <td>3.500000</td>\n",
       "      <td>1025.329956</td>\n",
       "      <td>1025.310059</td>\n",
       "      <td>2955.500000</td>\n",
       "      <td>807.169006</td>\n",
       "      <td>877.609985</td>\n",
       "      <td>2547.500000</td>\n",
       "      <td>2789.500000</td>\n",
       "      <td>411360.375000</td>\n",
       "      <td>447785.625000</td>\n",
       "      <td>5.470048e+06</td>\n",
       "      <td>1.000000</td>\n",
       "      <td>99.000000</td>\n",
       "    </tr>\n",
       "  </tbody>\n",
       "</table>\n",
       "</div>"
      ],
      "text/plain": [
       "             svolume          nhits      nclusters  nhitspercluster  \\\n",
       "count  475746.000000  475746.000000  475746.000000    475746.000000   \n",
       "mean        8.302025       9.020181       6.980841         1.334688   \n",
       "std         1.444295       3.289764       2.614520         0.330964   \n",
       "min         7.000000       5.000000       2.000000         1.000000   \n",
       "25%         8.000000       6.000000       5.000000         1.111111   \n",
       "50%         8.000000       9.000000       7.000000         1.250000   \n",
       "75%         8.000000      12.000000      10.000000         1.444444   \n",
       "max        18.000000      21.000000      17.000000         3.500000   \n",
       "\n",
       "                xmax           ymax           zmax           xmin  \\\n",
       "count  475746.000000  475746.000000  475746.000000  475746.000000   \n",
       "mean      191.588303     190.254196     645.634338    -182.971298   \n",
       "std       308.659943     308.976166    1113.922974     305.746857   \n",
       "min      -864.742004    -831.653992   -2545.500000   -1025.329956   \n",
       "25%       -26.294675     -26.564975    -108.575747    -348.524498   \n",
       "50%        44.175550      42.132099      61.985550     -34.414200   \n",
       "75%       364.803741     361.558754    1498.000000      27.131600   \n",
       "max      1025.329956    1025.310059    2955.500000     807.169006   \n",
       "\n",
       "                ymin           zmin          zmean           xvar  \\\n",
       "count  475746.000000  475746.000000  475746.000000  475746.000000   \n",
       "mean     -187.014984    -609.695557      16.064571   31253.681641   \n",
       "std       309.926117    1106.958374     870.065247   38884.726562   \n",
       "min     -1025.329956   -2955.500000   -2789.100098       0.000129   \n",
       "25%      -356.795990   -1497.500000    -685.804398    2406.886841   \n",
       "50%       -35.180500      -5.231375      14.787806   14309.314941   \n",
       "75%        27.121475     121.947998     730.735336   48087.880859   \n",
       "max       877.609985    2547.500000    2789.500000  411360.375000   \n",
       "\n",
       "                yvar          zvar         target       event_id  \n",
       "count  475746.000000  4.757460e+05  475746.000000  475746.000000  \n",
       "mean    31692.484375  3.082418e+05       0.517841      54.741093  \n",
       "std     39226.414062  3.669568e+05       0.499682      26.218641  \n",
       "min         0.000033  0.000000e+00       0.000000      11.000000  \n",
       "25%      2417.603699  3.713043e+04       0.000000      31.000000  \n",
       "50%     14571.986816  1.262438e+05       1.000000      54.000000  \n",
       "75%     49188.343750  5.266745e+05       1.000000      78.000000  \n",
       "max    447785.625000  5.470048e+06       1.000000      99.000000  "
      ]
     },
     "execution_count": 121,
     "metadata": {},
     "output_type": "execute_result"
    }
   ],
   "source": [
    "df_train = load_obj('training/pro_train.pkl')\n",
    "df_test = load_obj('training/pro_test.pkl')\n",
    "df_train.describe()"
   ]
  },
  {
   "cell_type": "code",
   "execution_count": 122,
   "metadata": {},
   "outputs": [],
   "source": [
    "import lightgbm\n",
    "import time"
   ]
  },
  {
   "cell_type": "code",
   "execution_count": 123,
   "metadata": {},
   "outputs": [
    {
     "name": "stdout",
     "output_type": "stream",
     "text": [
      "[LightGBM] [Warning] objective is set=binary, application=binary will be ignored. Current value: objective=binary\n",
      "[LightGBM] [Warning] Using too small ``bin_construct_sample_cnt`` may encounter unexpected errors and poor accuracy.\n",
      "[LightGBM] [Warning] objective is set=binary, application=binary will be ignored. Current value: objective=binary\n",
      "[LightGBM] [Warning] Auto-choosing col-wise multi-threading, the overhead of testing was 0.024010 seconds.\n",
      "You can set `force_col_wise=true` to remove the overhead.\n",
      "[LightGBM] [Warning] objective is set=binary, application=binary will be ignored. Current value: objective=binary\n",
      "Training until validation scores don't improve for 100 rounds\n",
      "[100]\tvalid_0's auc: 0.968203\n",
      "[200]\tvalid_0's auc: 0.973896\n",
      "[300]\tvalid_0's auc: 0.975539\n",
      "[400]\tvalid_0's auc: 0.976111\n",
      "[500]\tvalid_0's auc: 0.976459\n",
      "[600]\tvalid_0's auc: 0.976706\n",
      "[700]\tvalid_0's auc: 0.976935\n",
      "[800]\tvalid_0's auc: 0.977078\n",
      "[900]\tvalid_0's auc: 0.977179\n",
      "[1000]\tvalid_0's auc: 0.977232\n",
      "Did not meet early stopping. Best iteration is:\n",
      "[1000]\tvalid_0's auc: 0.977232\n",
      "took 17.979905128479004 seconds\n"
     ]
    }
   ],
   "source": [
    "s = time.time()\n",
    "\n",
    "columns=['svolume','nclusters', 'nhitspercluster', 'xmax','ymax','zmax', 'xmin','ymin','zmin', 'zmean',\n",
    "         'xvar','yvar','zvar']\n",
    "rounds = 1000\n",
    "rounds_early_stop = 100 \n",
    "parameters = {'subsample_for_bin': 800, 'max_bin': 512, 'num_threads':4,\n",
    "              'application': 'binary', 'objective': 'binary', 'metric': 'auc',\n",
    "              'boosting': 'gbdt', 'num_leaves': 128, 'feature_fraction': 0.7,\n",
    "              'learning_rate': 0.05, 'verbose':0}\n",
    "\n",
    "train_data = lightgbm.Dataset(df_train[columns].values, label=df_train.target.values)\n",
    "test_data = lightgbm.Dataset(df_test[columns].values, label=df_test.target.values)\n",
    "\n",
    "model = lightgbm.train(parameters, train_data, valid_sets=test_data, num_boost_round=rounds, \n",
    "                       early_stopping_rounds=rounds_early_stop, verbose_eval=100)\n",
    "\n",
    "print('took',time.time()-s,'seconds')\n"
   ]
  },
  {
   "cell_type": "code",
   "execution_count": 124,
   "metadata": {},
   "outputs": [],
   "source": [
    "import matplotlib.pyplot as plt \n",
    "%matplotlib inline"
   ]
  },
  {
   "cell_type": "code",
   "execution_count": 125,
   "metadata": {},
   "outputs": [
    {
     "name": "stdout",
     "output_type": "stream",
     "text": [
      "Threshold 0.1  --- Precision: 0.8047, Recall: 0.9921, Accuracy: 0.8725\n",
      "Threshold 0.2  --- Precision: 0.8444, Recall: 0.9828, Accuracy: 0.8983\n",
      "Threshold 0.30000000000000004  --- Precision: 0.8693, Recall: 0.9728, Accuracy: 0.9111\n",
      "Threshold 0.4  --- Precision: 0.8910, Recall: 0.9565, Accuracy: 0.9177\n",
      "Threshold 0.5  --- Precision: 0.9162, Recall: 0.9312, Accuracy: 0.9211\n",
      "Threshold 0.6  --- Precision: 0.9352, Recall: 0.9037, Accuracy: 0.9185\n",
      "Threshold 0.7000000000000001  --- Precision: 0.9475, Recall: 0.8759, Accuracy: 0.9115\n",
      "Threshold 0.8  --- Precision: 0.9588, Recall: 0.8364, Accuracy: 0.8977\n",
      "Threshold 0.9  --- Precision: 0.9757, Recall: 0.7248, Accuracy: 0.8496\n"
     ]
    }
   ],
   "source": [
    "th = np.arange(0.1, 1, 0.1)\n",
    "p = []\n",
    "\n",
    "y_test_pred=model.predict(df_test[columns].values)\n",
    "\n",
    "y_test = df_test.target.values \n",
    "\n",
    "for t in th:\n",
    "    precision, recall, accuracy=precision_and_recall(y_test, y_test_pred,threshold=t)\n",
    "    p.append(precision)"
   ]
  },
  {
   "cell_type": "code",
   "execution_count": 126,
   "metadata": {},
   "outputs": [
    {
     "data": {
      "image/png": "[encoded data removed]",
      "text/plain": [
       "<Figure size 432x288 with 1 Axes>"
      ]
     },
     "metadata": {
      "needs_background": "light"
     },
     "output_type": "display_data"
    }
   ],
   "source": [
    "plt.title('Precisión respecto a threshold')\n",
    "plt.plot(th, p)\n",
    "plt.show()"
   ]
  },
  {
   "cell_type": "code",
   "execution_count": 127,
   "metadata": {},
   "outputs": [],
   "source": [
    "import seaborn as sns"
   ]
  },
  {
   "cell_type": "code",
   "execution_count": 128,
   "metadata": {},
   "outputs": [
    {
     "data": {
      "image/png": "[encoded data removed]",
      "text/plain": [
       "<Figure size 432x288 with 1 Axes>"
      ]
     },
     "metadata": {
      "needs_background": "light"
     },
     "output_type": "display_data"
    }
   ],
   "source": [
    "sns.barplot(model.feature_importance(), columns)\n",
    "plt.title('Importancia de atributos LightGBM')\n",
    "plt.show()"
   ]
  },
  {
   "cell_type": "code",
   "execution_count": null,
   "metadata": {},
   "outputs": [],
   "source": []
  }
 ],
 "metadata": {
  "interpreter": {
   "hash": "c6a7b40274db86a37d657393cfd0928c3836b0021532fc2ccf0ba79e8a4ba1f5"
  },
  "kernelspec": {
   "display_name": "Python 3.8.3 ('base')",
   "language": "python",
   "name": "python3"
  },
  "language_info": {
   "codemirror_mode": {
    "name": "ipython",
    "version": 3
   },
   "file_extension": ".py",
   "mimetype": "text/x-python",
   "name": "python",
   "nbconvert_exporter": "python",
   "pygments_lexer": "ipython3",
   "version": "3.8.3"
  },
  "orig_nbformat": 4
 },
 "nbformat": 4,
 "nbformat_minor": 2
}
